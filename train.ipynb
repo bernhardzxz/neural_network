{
 "cells": [
  {
   "cell_type": "code",
   "execution_count": 1,
   "metadata": {},
   "outputs": [],
   "source": [
    "import network\n",
    "import mnist_loader"
   ]
  },
  {
   "cell_type": "code",
   "execution_count": 2,
   "metadata": {},
   "outputs": [],
   "source": [
    "# create a network\n",
    "net = network.Network([784, 16, 16, 10])"
   ]
  },
  {
   "cell_type": "code",
   "execution_count": 3,
   "metadata": {},
   "outputs": [],
   "source": [
    "# load the data\n",
    "training_data, validation_data, test_data = mnist_loader.load_data_wrapper()"
   ]
  },
  {
   "cell_type": "code",
   "execution_count": 7,
   "metadata": {},
   "outputs": [
    {
     "name": "stdout",
     "output_type": "stream",
     "text": [
      "Epoch 0: 9414 / 10000\n",
      "Epoch 1: 9408 / 10000\n",
      "Epoch 2: 9392 / 10000\n",
      "Epoch 3: 9411 / 10000\n",
      "Epoch 4: 9410 / 10000\n",
      "Epoch 5: 9387 / 10000\n",
      "Epoch 6: 9416 / 10000\n",
      "Epoch 7: 9408 / 10000\n",
      "Epoch 8: 9378 / 10000\n",
      "Epoch 9: 9414 / 10000\n"
     ]
    }
   ],
   "source": [
    "# train the network\n",
    "net.train(training_data, epochs=10, mini_batch_size=10, eta=3.0, test_data=test_data)"
   ]
  },
  {
   "cell_type": "code",
   "execution_count": 8,
   "metadata": {},
   "outputs": [],
   "source": [
    "# Save the trained model\n",
    "net.save(\"trained_network.pkl\")"
   ]
  },
  {
   "cell_type": "code",
   "execution_count": null,
   "metadata": {},
   "outputs": [],
   "source": []
  }
 ],
 "metadata": {
  "kernelspec": {
   "display_name": "base",
   "language": "python",
   "name": "python3"
  },
  "language_info": {
   "codemirror_mode": {
    "name": "ipython",
    "version": 3
   },
   "file_extension": ".py",
   "mimetype": "text/x-python",
   "name": "python",
   "nbconvert_exporter": "python",
   "pygments_lexer": "ipython3",
   "version": "3.12.7"
  }
 },
 "nbformat": 4,
 "nbformat_minor": 4
}
